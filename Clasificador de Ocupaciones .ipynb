{
 "cells": [
  {
   "cell_type": "markdown",
   "id": "ef01b84f",
   "metadata": {},
   "source": [
    "Fase 1 -Estructurar el conjunto de datos\n",
    "\n",
    "-Adquisicion de datos\n",
    "-Exploracion de datos\n",
    "-Preprocesamiento\n",
    "\n",
    "Reconocer los datos de analisis para el caso de estudio, si se trata de aprendizaje sobre imágenes(Clasificación),\n",
    "aprendizaje sobre texto(Clasificación),sobre variables continuas y discretas(regresión o clasificación).\n"
   ]
  },
  {
   "cell_type": "code",
   "execution_count": 2,
   "id": "8634ccd7",
   "metadata": {},
   "outputs": [
    {
     "data": {
      "text/html": [
       "<div>\n",
       "<style scoped>\n",
       "    .dataframe tbody tr th:only-of-type {\n",
       "        vertical-align: middle;\n",
       "    }\n",
       "\n",
       "    .dataframe tbody tr th {\n",
       "        vertical-align: top;\n",
       "    }\n",
       "\n",
       "    .dataframe thead th {\n",
       "        text-align: right;\n",
       "    }\n",
       "</style>\n",
       "<table border=\"1\" class=\"dataframe\">\n",
       "  <thead>\n",
       "    <tr style=\"text-align: right;\">\n",
       "      <th></th>\n",
       "      <th>Person ID</th>\n",
       "      <th>Gender</th>\n",
       "      <th>Age</th>\n",
       "      <th>Occupation</th>\n",
       "      <th>Sleep Duration</th>\n",
       "      <th>Quality of Sleep</th>\n",
       "      <th>Physical Activity Level</th>\n",
       "      <th>Stress Level</th>\n",
       "      <th>BMI Category</th>\n",
       "      <th>Blood Pressure</th>\n",
       "      <th>Heart Rate</th>\n",
       "      <th>Daily Steps</th>\n",
       "      <th>Sleep Disorder</th>\n",
       "    </tr>\n",
       "  </thead>\n",
       "  <tbody>\n",
       "    <tr>\n",
       "      <th>89</th>\n",
       "      <td>90</td>\n",
       "      <td>Male</td>\n",
       "      <td>35</td>\n",
       "      <td>Engineer</td>\n",
       "      <td>7.3</td>\n",
       "      <td>8</td>\n",
       "      <td>60</td>\n",
       "      <td>4</td>\n",
       "      <td>Normal</td>\n",
       "      <td>125/80</td>\n",
       "      <td>65</td>\n",
       "      <td>5000</td>\n",
       "      <td>None</td>\n",
       "    </tr>\n",
       "    <tr>\n",
       "      <th>336</th>\n",
       "      <td>337</td>\n",
       "      <td>Female</td>\n",
       "      <td>54</td>\n",
       "      <td>Engineer</td>\n",
       "      <td>8.4</td>\n",
       "      <td>9</td>\n",
       "      <td>30</td>\n",
       "      <td>3</td>\n",
       "      <td>Normal</td>\n",
       "      <td>125/80</td>\n",
       "      <td>65</td>\n",
       "      <td>5000</td>\n",
       "      <td>None</td>\n",
       "    </tr>\n",
       "    <tr>\n",
       "      <th>332</th>\n",
       "      <td>333</td>\n",
       "      <td>Female</td>\n",
       "      <td>54</td>\n",
       "      <td>Engineer</td>\n",
       "      <td>8.4</td>\n",
       "      <td>9</td>\n",
       "      <td>30</td>\n",
       "      <td>3</td>\n",
       "      <td>Normal</td>\n",
       "      <td>125/80</td>\n",
       "      <td>65</td>\n",
       "      <td>5000</td>\n",
       "      <td>None</td>\n",
       "    </tr>\n",
       "    <tr>\n",
       "      <th>47</th>\n",
       "      <td>48</td>\n",
       "      <td>Male</td>\n",
       "      <td>31</td>\n",
       "      <td>Doctor</td>\n",
       "      <td>7.8</td>\n",
       "      <td>7</td>\n",
       "      <td>75</td>\n",
       "      <td>6</td>\n",
       "      <td>Normal</td>\n",
       "      <td>120/80</td>\n",
       "      <td>70</td>\n",
       "      <td>8000</td>\n",
       "      <td>None</td>\n",
       "    </tr>\n",
       "    <tr>\n",
       "      <th>77</th>\n",
       "      <td>78</td>\n",
       "      <td>Male</td>\n",
       "      <td>33</td>\n",
       "      <td>Doctor</td>\n",
       "      <td>6.0</td>\n",
       "      <td>6</td>\n",
       "      <td>30</td>\n",
       "      <td>8</td>\n",
       "      <td>Normal</td>\n",
       "      <td>125/80</td>\n",
       "      <td>72</td>\n",
       "      <td>5000</td>\n",
       "      <td>None</td>\n",
       "    </tr>\n",
       "  </tbody>\n",
       "</table>\n",
       "</div>"
      ],
      "text/plain": [
       "     Person ID  Gender  Age Occupation  Sleep Duration  Quality of Sleep  \\\n",
       "89          90    Male   35   Engineer             7.3                 8   \n",
       "336        337  Female   54   Engineer             8.4                 9   \n",
       "332        333  Female   54   Engineer             8.4                 9   \n",
       "47          48    Male   31     Doctor             7.8                 7   \n",
       "77          78    Male   33     Doctor             6.0                 6   \n",
       "\n",
       "     Physical Activity Level  Stress Level BMI Category Blood Pressure  \\\n",
       "89                        60             4       Normal         125/80   \n",
       "336                       30             3       Normal         125/80   \n",
       "332                       30             3       Normal         125/80   \n",
       "47                        75             6       Normal         120/80   \n",
       "77                        30             8       Normal         125/80   \n",
       "\n",
       "     Heart Rate  Daily Steps Sleep Disorder  \n",
       "89           65         5000           None  \n",
       "336          65         5000           None  \n",
       "332          65         5000           None  \n",
       "47           70         8000           None  \n",
       "77           72         5000           None  "
      ]
     },
     "execution_count": 2,
     "metadata": {},
     "output_type": "execute_result"
    }
   ],
   "source": [
    "import pandas as pd\n",
    "\n",
    "data = pd.read_csv(\"Sleep_health_and_lifestyle_dataset.csv\")\n",
    "data.sample(5)\n"
   ]
  },
  {
   "cell_type": "code",
   "execution_count": 3,
   "id": "8e44afbb",
   "metadata": {},
   "outputs": [
    {
     "data": {
      "text/plain": [
       "array(['None', 'Sleep Apnea', 'Insomnia'], dtype=object)"
      ]
     },
     "execution_count": 3,
     "metadata": {},
     "output_type": "execute_result"
    }
   ],
   "source": [
    "data[\"Sleep Disorder\"].unique()"
   ]
  },
  {
   "cell_type": "code",
   "execution_count": 4,
   "id": "81b9e24b",
   "metadata": {},
   "outputs": [
    {
     "data": {
      "text/plain": [
       "0      1\n",
       "1      1\n",
       "2      1\n",
       "3      2\n",
       "4      2\n",
       "      ..\n",
       "369    2\n",
       "370    2\n",
       "371    2\n",
       "372    2\n",
       "373    2\n",
       "Name: Sleep Disorder, Length: 374, dtype: int64"
      ]
     },
     "execution_count": 4,
     "metadata": {},
     "output_type": "execute_result"
    }
   ],
   "source": [
    "data[\"Sleep Disorder\"] = data[\"Sleep Disorder\"].map({\n",
    "    'None': 1,\n",
    "    'Sleep Apnea':2, \n",
    "    'Insomnia':3\n",
    "})\n",
    "data[\"Sleep Disorder\"]"
   ]
  },
  {
   "cell_type": "code",
   "execution_count": 5,
   "id": "dd176496",
   "metadata": {},
   "outputs": [],
   "source": [
    "estres = list(data[\"Stress Level\"])\n",
    "calidad = list(data[\"Quality of Sleep\"])\n",
    "duracion = list(data[\"Sleep Duration\"])"
   ]
  },
  {
   "cell_type": "code",
   "execution_count": 6,
   "id": "259bf658",
   "metadata": {},
   "outputs": [
    {
     "data": {
      "image/png": "[encoded data removed]",
      "text/plain": [
       "<Figure size 432x288 with 1 Axes>"
      ]
     },
     "metadata": {
      "needs_background": "light"
     },
     "output_type": "display_data"
    }
   ],
   "source": [
    "import matplotlib.pyplot as plt\n",
    "\n",
    "plt.bar(estres, calidad)\n",
    "plt.title(\"RELACION ESTRES-CALIDAD\")\n",
    "plt.xlabel(\"estres\")\n",
    "plt.ylabel(\"calidad de sueno\")\n",
    "plt.show()"
   ]
  },
  {
   "cell_type": "code",
   "execution_count": 7,
   "id": "df4685f5",
   "metadata": {},
   "outputs": [
    {
     "data": {
      "text/plain": [
       "array(['Software Engineer', 'Doctor', 'Sales Representative', 'Teacher',\n",
       "       'Nurse', 'Engineer', 'Accountant', 'Scientist', 'Lawyer',\n",
       "       'Salesperson', 'Manager'], dtype=object)"
      ]
     },
     "execution_count": 7,
     "metadata": {},
     "output_type": "execute_result"
    }
   ],
   "source": [
    "data[\"Occupation\"].unique()"
   ]
  },
  {
   "cell_type": "code",
   "execution_count": 8,
   "id": "06c45719",
   "metadata": {},
   "outputs": [
    {
     "name": "stdout",
     "output_type": "stream",
     "text": [
      "['Accountant', 'Doctor', 'Engineer', 'Lawyer', 'Manager', 'Nurse', 'Sales Representative', 'Salesperson', 'Scientist', 'Software Engineer', 'Teacher']\n",
      "[37, 71, 63, 47, 1, 73, 2, 32, 4, 4, 40]\n"
     ]
    }
   ],
   "source": [
    "data[\"count\"] = 1\n",
    "counts = data.groupby(\"Occupation\").count()[\"count\"]\n",
    "carreras = list(counts.index)\n",
    "conteo_carrera = list(counts.values)\n",
    "\n",
    "print(carreras)\n",
    "print(conteo_carrera)"
   ]
  },
  {
   "cell_type": "markdown",
   "id": "bdf7b7ce",
   "metadata": {},
   "source": [
    "# Fase 2 - Modelo de aprendizaje\n",
    "\n",
    "-Conjunto de entrenamiento\n",
    "-Conjunto de pruebas\n",
    "-Modelo de Clasificación/Regresión\n",
    "-Ajuste/Entrenamiento\n",
    "-Pruebas de validación\n"
   ]
  },
  {
   "cell_type": "code",
   "execution_count": 9,
   "id": "fb279d15",
   "metadata": {},
   "outputs": [],
   "source": [
    "x1 = data[\"Sleep Duration\"]\n",
    "x2 = data[\"Quality of Sleep\"]\n",
    "x3 = data[\"Stress Level\"]"
   ]
  },
  {
   "cell_type": "code",
   "execution_count": 10,
   "id": "6cd702b4",
   "metadata": {},
   "outputs": [
    {
     "data": {
      "text/plain": [
       "array([[6.1, 6. , 6. ],\n",
       "       [6.2, 6. , 8. ],\n",
       "       [6.2, 6. , 8. ],\n",
       "       ...,\n",
       "       [8.1, 9. , 3. ],\n",
       "       [8.1, 9. , 3. ],\n",
       "       [8.1, 9. , 3. ]])"
      ]
     },
     "execution_count": 10,
     "metadata": {},
     "output_type": "execute_result"
    }
   ],
   "source": [
    "import numpy as np\n",
    "X = np.array([\n",
    "    x1,\n",
    "    x2,\n",
    "    x3\n",
    "]).T\n",
    "X"
   ]
  },
  {
   "cell_type": "code",
   "execution_count": 11,
   "id": "222e762c",
   "metadata": {},
   "outputs": [
    {
     "data": {
      "text/plain": [
       "array(['Software Engineer', 'Doctor', 'Doctor', 'Sales Representative',\n",
       "       'Sales Representative', 'Software Engineer', 'Teacher', 'Doctor',\n",
       "       'Doctor', 'Doctor', 'Doctor', 'Doctor', 'Doctor', 'Doctor',\n",
       "       'Doctor', 'Doctor', 'Nurse', 'Doctor', 'Nurse', 'Doctor', 'Doctor',\n",
       "       'Doctor', 'Doctor', 'Doctor', 'Doctor', 'Doctor', 'Doctor',\n",
       "       'Doctor', 'Doctor', 'Doctor', 'Nurse', 'Nurse', 'Nurse', 'Doctor',\n",
       "       'Doctor', 'Doctor', 'Doctor', 'Doctor', 'Doctor', 'Doctor',\n",
       "       'Doctor', 'Doctor', 'Doctor', 'Doctor', 'Doctor', 'Doctor',\n",
       "       'Doctor', 'Doctor', 'Doctor', 'Doctor', 'Engineer', 'Engineer',\n",
       "       'Doctor', 'Doctor', 'Doctor', 'Doctor', 'Doctor', 'Doctor',\n",
       "       'Doctor', 'Doctor', 'Doctor', 'Doctor', 'Doctor', 'Doctor',\n",
       "       'Doctor', 'Doctor', 'Accountant', 'Doctor', 'Scientist',\n",
       "       'Scientist', 'Doctor', 'Doctor', 'Doctor', 'Doctor', 'Doctor',\n",
       "       'Doctor', 'Doctor', 'Doctor', 'Doctor', 'Doctor', 'Scientist',\n",
       "       'Scientist', 'Teacher', 'Teacher', 'Software Engineer',\n",
       "       'Accountant', 'Engineer', 'Engineer', 'Engineer', 'Engineer',\n",
       "       'Engineer', 'Engineer', 'Software Engineer', 'Lawyer',\n",
       "       'Accountant', 'Accountant', 'Accountant', 'Accountant', 'Teacher',\n",
       "       'Teacher', 'Teacher', 'Teacher', 'Teacher', 'Teacher', 'Teacher',\n",
       "       'Teacher', 'Nurse', 'Engineer', 'Engineer', 'Lawyer', 'Accountant',\n",
       "       'Lawyer', 'Accountant', 'Lawyer', 'Accountant', 'Accountant',\n",
       "       'Accountant', 'Accountant', 'Accountant', 'Accountant',\n",
       "       'Accountant', 'Accountant', 'Accountant', 'Accountant',\n",
       "       'Accountant', 'Nurse', 'Lawyer', 'Accountant', 'Lawyer', 'Lawyer',\n",
       "       'Accountant', 'Lawyer', 'Lawyer', 'Accountant', 'Lawyer', 'Lawyer',\n",
       "       'Accountant', 'Lawyer', 'Accountant', 'Lawyer', 'Accountant',\n",
       "       'Lawyer', 'Accountant', 'Accountant', 'Lawyer', 'Lawyer', 'Lawyer',\n",
       "       'Engineer', 'Lawyer', 'Accountant', 'Accountant', 'Lawyer',\n",
       "       'Lawyer', 'Lawyer', 'Lawyer', 'Lawyer', 'Lawyer', 'Lawyer',\n",
       "       'Lawyer', 'Lawyer', 'Lawyer', 'Accountant', 'Accountant', 'Lawyer',\n",
       "       'Lawyer', 'Lawyer', 'Engineer', 'Lawyer', 'Lawyer', 'Lawyer',\n",
       "       'Lawyer', 'Lawyer', 'Lawyer', 'Lawyer', 'Lawyer', 'Lawyer',\n",
       "       'Lawyer', 'Salesperson', 'Lawyer', 'Lawyer', 'Lawyer', 'Lawyer',\n",
       "       'Lawyer', 'Lawyer', 'Teacher', 'Teacher', 'Teacher', 'Salesperson',\n",
       "       'Teacher', 'Salesperson', 'Teacher', 'Salesperson', 'Salesperson',\n",
       "       'Salesperson', 'Salesperson', 'Salesperson', 'Salesperson',\n",
       "       'Salesperson', 'Salesperson', 'Salesperson', 'Salesperson',\n",
       "       'Engineer', 'Engineer', 'Engineer', 'Engineer', 'Engineer',\n",
       "       'Engineer', 'Engineer', 'Engineer', 'Engineer', 'Engineer',\n",
       "       'Engineer', 'Engineer', 'Engineer', 'Engineer', 'Engineer',\n",
       "       'Engineer', 'Engineer', 'Engineer', 'Salesperson', 'Teacher',\n",
       "       'Salesperson', 'Salesperson', 'Salesperson', 'Teacher',\n",
       "       'Salesperson', 'Teacher', 'Salesperson', 'Teacher', 'Salesperson',\n",
       "       'Teacher', 'Salesperson', 'Teacher', 'Salesperson', 'Teacher',\n",
       "       'Salesperson', 'Salesperson', 'Teacher', 'Salesperson',\n",
       "       'Salesperson', 'Teacher', 'Salesperson', 'Salesperson', 'Teacher',\n",
       "       'Salesperson', 'Teacher', 'Salesperson', 'Engineer', 'Salesperson',\n",
       "       'Salesperson', 'Teacher', 'Teacher', 'Teacher', 'Teacher',\n",
       "       'Teacher', 'Teacher', 'Teacher', 'Teacher', 'Teacher', 'Teacher',\n",
       "       'Teacher', 'Teacher', 'Teacher', 'Manager', 'Doctor', 'Nurse',\n",
       "       'Doctor', 'Nurse', 'Nurse', 'Nurse', 'Nurse', 'Nurse', 'Nurse',\n",
       "       'Nurse', 'Nurse', 'Nurse', 'Doctor', 'Doctor', 'Nurse', 'Engineer',\n",
       "       'Nurse', 'Nurse', 'Nurse', 'Nurse', 'Nurse', 'Nurse', 'Nurse',\n",
       "       'Nurse', 'Nurse', 'Nurse', 'Nurse', 'Nurse', 'Nurse', 'Nurse',\n",
       "       'Nurse', 'Nurse', 'Nurse', 'Nurse', 'Engineer', 'Engineer',\n",
       "       'Engineer', 'Engineer', 'Nurse', 'Nurse', 'Nurse', 'Nurse',\n",
       "       'Accountant', 'Accountant', 'Accountant', 'Accountant',\n",
       "       'Accountant', 'Accountant', 'Engineer', 'Engineer', 'Engineer',\n",
       "       'Engineer', 'Engineer', 'Engineer', 'Engineer', 'Engineer',\n",
       "       'Engineer', 'Engineer', 'Engineer', 'Engineer', 'Engineer',\n",
       "       'Engineer', 'Engineer', 'Engineer', 'Engineer', 'Engineer',\n",
       "       'Engineer', 'Engineer', 'Engineer', 'Engineer', 'Engineer',\n",
       "       'Engineer', 'Engineer', 'Engineer', 'Engineer', 'Nurse', 'Nurse',\n",
       "       'Doctor', 'Doctor', 'Nurse', 'Nurse', 'Nurse', 'Nurse', 'Nurse',\n",
       "       'Nurse', 'Nurse', 'Nurse', 'Nurse', 'Nurse', 'Nurse', 'Nurse',\n",
       "       'Nurse', 'Nurse', 'Nurse', 'Nurse', 'Nurse', 'Nurse', 'Nurse',\n",
       "       'Nurse', 'Nurse', 'Nurse', 'Nurse', 'Nurse', 'Nurse', 'Nurse',\n",
       "       'Nurse', 'Nurse', 'Nurse', 'Nurse', 'Nurse'], dtype=object)"
      ]
     },
     "execution_count": 11,
     "metadata": {},
     "output_type": "execute_result"
    }
   ],
   "source": [
    "Y = data[\"Occupation\"].values\n",
    "Y"
   ]
  },
  {
   "cell_type": "code",
   "execution_count": 12,
   "id": "acb3295b",
   "metadata": {},
   "outputs": [
    {
     "data": {
      "text/plain": [
       "((374, 3), (374,))"
      ]
     },
     "execution_count": 12,
     "metadata": {},
     "output_type": "execute_result"
    }
   ],
   "source": [
    "X.shape, Y.shape"
   ]
  },
  {
   "cell_type": "code",
   "execution_count": 13,
   "id": "46cec438",
   "metadata": {},
   "outputs": [
    {
     "data": {
      "text/plain": [
       "((224, 3), (150, 3), (224,), (150,))"
      ]
     },
     "execution_count": 13,
     "metadata": {},
     "output_type": "execute_result"
    }
   ],
   "source": [
    "from sklearn.model_selection import train_test_split\n",
    "\n",
    "X_train,X_test, Y_train, Y_test= train_test_split(X,Y, test_size=0.4)\n",
    "X_train.shape,X_test.shape, Y_train.shape, Y_test.shape"
   ]
  },
  {
   "cell_type": "code",
   "execution_count": 14,
   "id": "c1157a4e",
   "metadata": {},
   "outputs": [
    {
     "data": {
      "text/plain": [
       "0.7733333333333333"
      ]
     },
     "execution_count": 14,
     "metadata": {},
     "output_type": "execute_result"
    }
   ],
   "source": [
    "from sklearn.tree import DecisionTreeClassifier\n",
    "\n",
    "clf = DecisionTreeClassifier()\n",
    "clf.fit(X_train,Y_train)\n",
    "clf.score(X_test,Y_test)"
   ]
  },
  {
   "cell_type": "code",
   "execution_count": 15,
   "id": "98702f42",
   "metadata": {},
   "outputs": [
    {
     "data": {
      "text/plain": [
       "array(['Doctor', 'Teacher', 'Doctor', 'Doctor', 'Teacher', 'Lawyer',\n",
       "       'Nurse', 'Teacher', 'Teacher', 'Doctor', 'Lawyer', 'Accountant',\n",
       "       'Salesperson', 'Doctor', 'Doctor', 'Accountant', 'Engineer',\n",
       "       'Doctor', 'Nurse', 'Accountant', 'Doctor', 'Scientist', 'Engineer',\n",
       "       'Salesperson', 'Teacher', 'Engineer', 'Doctor', 'Engineer',\n",
       "       'Accountant', 'Engineer', 'Engineer', 'Nurse', 'Doctor', 'Doctor',\n",
       "       'Engineer', 'Accountant', 'Teacher', 'Engineer', 'Engineer',\n",
       "       'Accountant', 'Doctor', 'Nurse', 'Salesperson', 'Nurse', 'Nurse',\n",
       "       'Doctor', 'Teacher', 'Teacher', 'Engineer', 'Nurse', 'Lawyer',\n",
       "       'Doctor', 'Doctor', 'Doctor', 'Nurse', 'Salesperson', 'Doctor',\n",
       "       'Nurse', 'Accountant', 'Lawyer', 'Nurse', 'Teacher',\n",
       "       'Sales Representative', 'Salesperson', 'Sales Representative',\n",
       "       'Accountant', 'Teacher', 'Engineer', 'Lawyer', 'Engineer',\n",
       "       'Doctor', 'Accountant', 'Nurse', 'Engineer',\n",
       "       'Sales Representative', 'Accountant', 'Lawyer', 'Nurse',\n",
       "       'Accountant', 'Engineer', 'Teacher', 'Nurse', 'Lawyer', 'Nurse',\n",
       "       'Accountant', 'Doctor', 'Nurse', 'Doctor', 'Nurse', 'Nurse',\n",
       "       'Salesperson', 'Engineer', 'Doctor', 'Engineer', 'Salesperson',\n",
       "       'Accountant', 'Nurse', 'Doctor', 'Doctor', 'Nurse', 'Engineer',\n",
       "       'Lawyer', 'Salesperson', 'Salesperson', 'Nurse', 'Lawyer',\n",
       "       'Doctor', 'Nurse', 'Doctor', 'Nurse', 'Accountant', 'Doctor',\n",
       "       'Engineer', 'Nurse', 'Engineer', 'Lawyer', 'Accountant',\n",
       "       'Accountant', 'Engineer', 'Lawyer', 'Accountant', 'Nurse',\n",
       "       'Engineer', 'Doctor', 'Nurse', 'Nurse', 'Nurse', 'Salesperson',\n",
       "       'Accountant', 'Doctor', 'Engineer', 'Doctor', 'Engineer', 'Nurse',\n",
       "       'Accountant', 'Accountant', 'Nurse', 'Salesperson', 'Nurse',\n",
       "       'Nurse', 'Manager', 'Nurse', 'Nurse', 'Teacher', 'Salesperson',\n",
       "       'Engineer', 'Doctor', 'Nurse', 'Teacher', 'Doctor'], dtype=object)"
      ]
     },
     "execution_count": 15,
     "metadata": {},
     "output_type": "execute_result"
    }
   ],
   "source": [
    "Y_predict = clf.predict(X_test)\n",
    "Y_predict"
   ]
  },
  {
   "cell_type": "markdown",
   "id": "f1c2e8f6",
   "metadata": {},
   "source": [
    "Fase 3 - Reportes y resultados\n",
    "\n",
    "-Validacion de Aprendizaje\n",
    "-Generar graficas de desempeño\n",
    "-Reporte de metricas"
   ]
  },
  {
   "cell_type": "code",
   "execution_count": 16,
   "id": "8adce11f",
   "metadata": {},
   "outputs": [
    {
     "data": {
      "text/plain": [
       "0.7733333333333333"
      ]
     },
     "execution_count": 16,
     "metadata": {},
     "output_type": "execute_result"
    }
   ],
   "source": [
    "\n",
    "from sklearn.metrics import accuracy_score\n",
    "\n",
    "accuracy_score(Y_test, Y_predict)"
   ]
  },
  {
   "cell_type": "code",
   "execution_count": 17,
   "id": "a36cfca1",
   "metadata": {},
   "outputs": [
    {
     "name": "stdout",
     "output_type": "stream",
     "text": [
      "                      precision    recall  f1-score   support\n",
      "\n",
      "          Accountant       0.65      0.87      0.74        15\n",
      "              Doctor       0.74      0.82      0.78        28\n",
      "            Engineer       0.83      0.80      0.82        25\n",
      "              Lawyer       1.00      0.73      0.85        15\n",
      "             Manager       0.00      0.00      0.00         0\n",
      "               Nurse       0.68      0.72      0.70        32\n",
      "Sales Representative       0.00      0.00      0.00         0\n",
      "         Salesperson       1.00      1.00      1.00        12\n",
      "           Scientist       1.00      0.33      0.50         3\n",
      "   Software Engineer       0.00      0.00      0.00         2\n",
      "             Teacher       1.00      0.72      0.84        18\n",
      "\n",
      "            accuracy                           0.77       150\n",
      "           macro avg       0.63      0.55      0.57       150\n",
      "        weighted avg       0.81      0.77      0.78       150\n",
      "\n"
     ]
    },
    {
     "name": "stderr",
     "output_type": "stream",
     "text": [
      "C:\\Users\\Administrator\\anaconda3\\lib\\site-packages\\sklearn\\metrics\\_classification.py:1318: UndefinedMetricWarning: Precision and F-score are ill-defined and being set to 0.0 in labels with no predicted samples. Use `zero_division` parameter to control this behavior.\n",
      "  _warn_prf(average, modifier, msg_start, len(result))\n",
      "C:\\Users\\Administrator\\anaconda3\\lib\\site-packages\\sklearn\\metrics\\_classification.py:1318: UndefinedMetricWarning: Recall and F-score are ill-defined and being set to 0.0 in labels with no true samples. Use `zero_division` parameter to control this behavior.\n",
      "  _warn_prf(average, modifier, msg_start, len(result))\n",
      "C:\\Users\\Administrator\\anaconda3\\lib\\site-packages\\sklearn\\metrics\\_classification.py:1318: UndefinedMetricWarning: Precision and F-score are ill-defined and being set to 0.0 in labels with no predicted samples. Use `zero_division` parameter to control this behavior.\n",
      "  _warn_prf(average, modifier, msg_start, len(result))\n",
      "C:\\Users\\Administrator\\anaconda3\\lib\\site-packages\\sklearn\\metrics\\_classification.py:1318: UndefinedMetricWarning: Recall and F-score are ill-defined and being set to 0.0 in labels with no true samples. Use `zero_division` parameter to control this behavior.\n",
      "  _warn_prf(average, modifier, msg_start, len(result))\n",
      "C:\\Users\\Administrator\\anaconda3\\lib\\site-packages\\sklearn\\metrics\\_classification.py:1318: UndefinedMetricWarning: Precision and F-score are ill-defined and being set to 0.0 in labels with no predicted samples. Use `zero_division` parameter to control this behavior.\n",
      "  _warn_prf(average, modifier, msg_start, len(result))\n",
      "C:\\Users\\Administrator\\anaconda3\\lib\\site-packages\\sklearn\\metrics\\_classification.py:1318: UndefinedMetricWarning: Recall and F-score are ill-defined and being set to 0.0 in labels with no true samples. Use `zero_division` parameter to control this behavior.\n",
      "  _warn_prf(average, modifier, msg_start, len(result))\n"
     ]
    }
   ],
   "source": [
    "from sklearn.metrics import classification_report\n",
    "\n",
    "print(classification_report(Y_test, Y_predict))"
   ]
  },
  {
   "cell_type": "code",
   "execution_count": null,
   "id": "6ff13efc",
   "metadata": {},
   "outputs": [],
   "source": []
  }
 ],
 "metadata": {
  "kernelspec": {
   "display_name": "Python 3 (ipykernel)",
   "language": "python",
   "name": "python3"
  },
  "language_info": {
   "codemirror_mode": {
    "name": "ipython",
    "version": 3
   },
   "file_extension": ".py",
   "mimetype": "text/x-python",
   "name": "python",
   "nbconvert_exporter": "python",
   "pygments_lexer": "ipython3",
   "version": "3.9.12"
  }
 },
 "nbformat": 4,
 "nbformat_minor": 5
}
