{
 "cells": [
  {
   "cell_type": "code",
   "execution_count": 110,
   "id": "98b52e96",
   "metadata": {},
   "outputs": [],
   "source": [
    "import numpy as np\n",
    "import matplotlib.pyplot as plt"
   ]
  },
  {
   "cell_type": "code",
   "execution_count": 149,
   "id": "02a67cf8",
   "metadata": {},
   "outputs": [],
   "source": [
    "X = np.array([\n",
    "    [0.7,23000,43],\n",
    "    [0.5,23500,39],\n",
    "    [0.3,20000,25],\n",
    "    [0.5,30000,41],\n",
    "    [0.6,26500,44]\n",
    "])"
   ]
  },
  {
   "cell_type": "code",
   "execution_count": 150,
   "id": "4075f811",
   "metadata": {},
   "outputs": [],
   "source": [
    "y = np.array(\n",
    "    [64796.4, 70316, 59885.6, 89806, 79291.2])\n"
   ]
  },
  {
   "cell_type": "code",
   "execution_count": 151,
   "id": "f7f68b23",
   "metadata": {},
   "outputs": [],
   "source": [
    "def serror(X,Y,w,w0):\n",
    "    s = 0\n",
    "    for i in range(len(X)):\n",
    "        x = X[i]\n",
    "        y = Y[i]\n",
    "        error = (y-(np.dot(w,x)+w0))**2\n",
    "        s += error\n",
    "    return s"
   ]
  },
  {
   "cell_type": "code",
   "execution_count": 152,
   "id": "5b3e99b9",
   "metadata": {},
   "outputs": [
    {
     "data": {
      "text/plain": [
       "11874171697.44"
      ]
     },
     "execution_count": 152,
     "metadata": {},
     "output_type": "execute_result"
    }
   ],
   "source": [
    "w = np.array([1,1,1])\n",
    "w0 = 0\n",
    "\n",
    "serror(X,Y,w,w0)"
   ]
  },
  {
   "cell_type": "code",
   "execution_count": 153,
   "id": "3ad4b61b",
   "metadata": {},
   "outputs": [
    {
     "data": {
      "text/plain": [
       "15999999.999999942"
      ]
     },
     "execution_count": 153,
     "metadata": {},
     "output_type": "execute_result"
    }
   ],
   "source": [
    "w = np.array([2,3,-5])\n",
    "w0 = 10\n",
    "\n",
    "serror(X,Y,w,w0)"
   ]
  },
  {
   "cell_type": "code",
   "execution_count": 154,
   "id": "f06f96b3",
   "metadata": {},
   "outputs": [],
   "source": [
    "w = np.array([1,1,1]) #pesos\n",
    "w0 = 0 #bias"
   ]
  },
  {
   "cell_type": "code",
   "execution_count": 155,
   "id": "adbf48a2",
   "metadata": {},
   "outputs": [],
   "source": [
    "#algoritmo ingenuo aleatorio\n",
    "\n",
    "for t in range(1000):\n",
    "    #peso primo\n",
    "    wp = w + np.random.uniform(-1,1,len(w))\n",
    "    #bias primo\n",
    "    w0p = w0 + np.random.uniform(-1,1)\n",
    "    #suma de error\n",
    "    ew = serror(X,Y,w,w0)\n",
    "    #suma de error prima\n",
    "    ewp = serror(X,Y,wp,w0p)\n",
    "    if ewp < ew:\n",
    "        w = wp \n",
    "        w0 = w0p"
   ]
  },
  {
   "cell_type": "code",
   "execution_count": 156,
   "id": "f04a6324",
   "metadata": {},
   "outputs": [
    {
     "data": {
      "text/plain": [
       "array([ 2.6182972 ,  2.96514868, -2.13522263])"
      ]
     },
     "execution_count": 156,
     "metadata": {},
     "output_type": "execute_result"
    }
   ],
   "source": [
    "w\n"
   ]
  },
  {
   "cell_type": "code",
   "execution_count": 157,
   "id": "5199e9d6",
   "metadata": {},
   "outputs": [
    {
     "data": {
      "text/plain": [
       "-1.8990309521619155"
      ]
     },
     "execution_count": 157,
     "metadata": {},
     "output_type": "execute_result"
    }
   ],
   "source": [
    "w0"
   ]
  },
  {
   "cell_type": "code",
   "execution_count": 158,
   "id": "1e32c70b",
   "metadata": {},
   "outputs": [
    {
     "data": {
      "text/plain": [
       "13417243.89367049"
      ]
     },
     "execution_count": 158,
     "metadata": {},
     "output_type": "execute_result"
    }
   ],
   "source": [
    "ew"
   ]
  },
  {
   "cell_type": "code",
   "execution_count": 159,
   "id": "a924052a",
   "metadata": {},
   "outputs": [
    {
     "data": {
      "text/plain": [
       "1580751372.573016"
      ]
     },
     "execution_count": 159,
     "metadata": {},
     "output_type": "execute_result"
    }
   ],
   "source": [
    "ewp"
   ]
  },
  {
   "cell_type": "code",
   "execution_count": null,
   "id": "d2829651",
   "metadata": {},
   "outputs": [],
   "source": [
    "#Regresion Lineal con libreria"
   ]
  },
  {
   "cell_type": "code",
   "execution_count": 160,
   "id": "52021293",
   "metadata": {},
   "outputs": [
    {
     "data": {
      "text/plain": [
       "(array([-3.26993086e+04,  2.80437482e+00,  5.50831503e+02]),\n",
       " -316.8698060941824)"
      ]
     },
     "execution_count": 160,
     "metadata": {},
     "output_type": "execute_result"
    }
   ],
   "source": [
    "from sklearn.linear_model import LinearRegression\n",
    "\n",
    "reg = LinearRegression()\n",
    "\n",
    "reg.fit(X,y)\n",
    "reg.coef_, reg.intercept_"
   ]
  },
  {
   "cell_type": "code",
   "execution_count": 162,
   "id": "6ba46293",
   "metadata": {},
   "outputs": [
    {
     "data": {
      "text/plain": [
       "array([61073.95181966, 17470.24573503])"
      ]
     },
     "execution_count": 162,
     "metadata": {},
     "output_type": "execute_result"
    }
   ],
   "source": [
    "reg.predict([[0.7,22000,41],\n",
    "           [0.2,1800,35]])"
   ]
  },
  {
   "cell_type": "code",
   "execution_count": null,
   "id": "10a93e05",
   "metadata": {},
   "outputs": [],
   "source": []
  }
 ],
 "metadata": {
  "kernelspec": {
   "display_name": "Python 3 (ipykernel)",
   "language": "python",
   "name": "python3"
  },
  "language_info": {
   "codemirror_mode": {
    "name": "ipython",
    "version": 3
   },
   "file_extension": ".py",
   "mimetype": "text/x-python",
   "name": "python",
   "nbconvert_exporter": "python",
   "pygments_lexer": "ipython3",
   "version": "3.10.11"
  }
 },
 "nbformat": 4,
 "nbformat_minor": 5
}
